{
 "cells": [
  {
   "cell_type": "code",
   "execution_count": 9,
   "metadata": {},
   "outputs": [
    {
     "name": "stdout",
     "output_type": "stream",
     "text": [
      "Carlos Sainz: 55\n",
      "session_key de la carrera Emilia-Romagna: 9515\n"
     ]
    }
   ],
   "source": [
    "from urllib.request import urlopen\n",
    "import json\n",
    "import dicts_2024\n",
    "import pandas as pd\n",
    "\n",
    "driver_name = 'Carlos Sainz'\n",
    "race_name = 'Emilia-Romagna'\n",
    "\n",
    "driver_number = dicts_2024.drivers_info_2024[driver_name].get('driver_number')\n",
    "session_key = dicts_2024.sessions_info_2024[race_name].get('session_key')\n",
    "\n",
    "print(f\"{driver_name}: {driver_number}\")\n",
    "print(f\"session_key de la carrera {race_name}: {session_key}\")\n",
    "\n",
    "base_url_pits = f'https://api.openf1.org/v1/pit?session_key={session_key}&driver_number={driver_number}&pit_duration<50'\n",
    "\n",
    "intervals = []\n",
    "response = urlopen(base_url_pits)\n",
    "\n",
    "data = json.loads(response.read().decode('utf-8'))\n",
    "\n",
    "intervals.append(data[0])\n",
    "\n",
    "df = pd.DataFrame(intervals)\n",
    "\n",
    "\n"
   ]
  },
  {
   "cell_type": "code",
   "execution_count": 11,
   "metadata": {},
   "outputs": [
    {
     "data": {
      "text/html": [
       "<div>\n",
       "<style scoped>\n",
       "    .dataframe tbody tr th:only-of-type {\n",
       "        vertical-align: middle;\n",
       "    }\n",
       "\n",
       "    .dataframe tbody tr th {\n",
       "        vertical-align: top;\n",
       "    }\n",
       "\n",
       "    .dataframe thead th {\n",
       "        text-align: right;\n",
       "    }\n",
       "</style>\n",
       "<table border=\"1\" class=\"dataframe\">\n",
       "  <thead>\n",
       "    <tr style=\"text-align: right;\">\n",
       "      <th></th>\n",
       "      <th>session_key</th>\n",
       "      <th>meeting_key</th>\n",
       "      <th>date</th>\n",
       "      <th>driver_number</th>\n",
       "      <th>pit_duration</th>\n",
       "      <th>lap_number</th>\n",
       "    </tr>\n",
       "  </thead>\n",
       "  <tbody>\n",
       "    <tr>\n",
       "      <th>0</th>\n",
       "      <td>9515</td>\n",
       "      <td>1235</td>\n",
       "      <td>2024-05-19T13:40:34.603000+00:00</td>\n",
       "      <td>55</td>\n",
       "      <td>30.5</td>\n",
       "      <td>27</td>\n",
       "    </tr>\n",
       "  </tbody>\n",
       "</table>\n",
       "</div>"
      ],
      "text/plain": [
       "   session_key  meeting_key                              date  driver_number  \\\n",
       "0         9515         1235  2024-05-19T13:40:34.603000+00:00             55   \n",
       "\n",
       "   pit_duration  lap_number  \n",
       "0          30.5          27  "
      ]
     },
     "execution_count": 11,
     "metadata": {},
     "output_type": "execute_result"
    }
   ],
   "source": [
    "df.head()"
   ]
  },
  {
   "cell_type": "code",
   "execution_count": null,
   "metadata": {},
   "outputs": [],
   "source": [
    "base_url_stints = f'https://api.openf1.org/v1/stints?session_key={session_key}&driver_number={driver_number}'\n",
    "\n"
   ]
  }
 ],
 "metadata": {
  "kernelspec": {
   "display_name": ".venv",
   "language": "python",
   "name": "python3"
  },
  "language_info": {
   "codemirror_mode": {
    "name": "ipython",
    "version": 3
   },
   "file_extension": ".py",
   "mimetype": "text/x-python",
   "name": "python",
   "nbconvert_exporter": "python",
   "pygments_lexer": "ipython3",
   "version": "3.12.6"
  }
 },
 "nbformat": 4,
 "nbformat_minor": 2
}
